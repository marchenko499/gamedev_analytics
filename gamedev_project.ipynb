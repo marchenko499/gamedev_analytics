{
 "cells": [
  {
   "cell_type": "code",
   "execution_count": 27,
   "id": "95b8be26",
   "metadata": {},
   "outputs": [],
   "source": [
    "import pandas as pd \n",
    "import numpy as np\n",
    "import matplotlib.pyplot as plt \n",
    "import seaborn as sns\n",
    "from scipy import stats\n",
    "\n",
    "%matplotlib inline "
   ]
  },
  {
   "cell_type": "code",
   "execution_count": 2,
   "id": "d007a7b2",
   "metadata": {},
   "outputs": [],
   "source": [
    "# Общая настройка графиков\n",
    "sns.set(\n",
    "    font_scale=1,\n",
    "    style=\"whitegrid\",\n",
    "    rc={'figure.figsize':(4,4)}\n",
    "        )"
   ]
  },
  {
   "cell_type": "code",
   "execution_count": 3,
   "id": "64272d92",
   "metadata": {},
   "outputs": [],
   "source": [
    "data = pd.read_csv('gamedev_data.csv')"
   ]
  },
  {
   "cell_type": "code",
   "execution_count": 4,
   "id": "9e345ef6",
   "metadata": {
    "scrolled": true
   },
   "outputs": [
    {
     "data": {
      "text/html": [
       "<div>\n",
       "<style scoped>\n",
       "    .dataframe tbody tr th:only-of-type {\n",
       "        vertical-align: middle;\n",
       "    }\n",
       "\n",
       "    .dataframe tbody tr th {\n",
       "        vertical-align: top;\n",
       "    }\n",
       "\n",
       "    .dataframe thead th {\n",
       "        text-align: right;\n",
       "    }\n",
       "</style>\n",
       "<table border=\"1\" class=\"dataframe\">\n",
       "  <thead>\n",
       "    <tr style=\"text-align: right;\">\n",
       "      <th></th>\n",
       "      <th>AbGroup</th>\n",
       "      <th>user_id</th>\n",
       "      <th>time_stamp</th>\n",
       "      <th>install_date</th>\n",
       "      <th>event_name</th>\n",
       "      <th>platform</th>\n",
       "      <th>network_name</th>\n",
       "      <th>country_name</th>\n",
       "      <th>InGameTime</th>\n",
       "      <th>LastCompletedLevel</th>\n",
       "      <th>avg_energy_amount</th>\n",
       "      <th>revenue_on_event</th>\n",
       "      <th>revenue_on_other_activities</th>\n",
       "      <th>gold_on_event</th>\n",
       "      <th>gold_on_other_activities</th>\n",
       "    </tr>\n",
       "  </thead>\n",
       "  <tbody>\n",
       "    <tr>\n",
       "      <th>0</th>\n",
       "      <td>Control</td>\n",
       "      <td>d60ebcaecff2dc1d360a8a41271e6fd8a902c107</td>\n",
       "      <td>2020-02-10</td>\n",
       "      <td>2019-11-10</td>\n",
       "      <td>ResourceSpend</td>\n",
       "      <td>itunes</td>\n",
       "      <td>Organic</td>\n",
       "      <td>United Kingdom of Great Britain and Northern I...</td>\n",
       "      <td>276180</td>\n",
       "      <td>345</td>\n",
       "      <td>54.0</td>\n",
       "      <td>0.0</td>\n",
       "      <td>0.0</td>\n",
       "      <td>NaN</td>\n",
       "      <td>NaN</td>\n",
       "    </tr>\n",
       "    <tr>\n",
       "      <th>1</th>\n",
       "      <td>Test</td>\n",
       "      <td>f6e385b0ab43d5aea9cfcc408aa84029a4ea5fdb</td>\n",
       "      <td>2020-03-04</td>\n",
       "      <td>2019-11-05</td>\n",
       "      <td>ResourceSpend</td>\n",
       "      <td>itunes</td>\n",
       "      <td>Paid</td>\n",
       "      <td>United States of America</td>\n",
       "      <td>166095</td>\n",
       "      <td>199</td>\n",
       "      <td>50.0</td>\n",
       "      <td>0.0</td>\n",
       "      <td>0.0</td>\n",
       "      <td>NaN</td>\n",
       "      <td>NaN</td>\n",
       "    </tr>\n",
       "    <tr>\n",
       "      <th>2</th>\n",
       "      <td>Control</td>\n",
       "      <td>a4c80c8524e2c11cc238553d7b02da01ce2aad66</td>\n",
       "      <td>2020-02-26</td>\n",
       "      <td>2020-01-02</td>\n",
       "      <td>ResourceSpend</td>\n",
       "      <td>itunes</td>\n",
       "      <td>Paid</td>\n",
       "      <td>Canada</td>\n",
       "      <td>240986</td>\n",
       "      <td>84</td>\n",
       "      <td>39.0</td>\n",
       "      <td>0.0</td>\n",
       "      <td>0.0</td>\n",
       "      <td>NaN</td>\n",
       "      <td>NaN</td>\n",
       "    </tr>\n",
       "    <tr>\n",
       "      <th>3</th>\n",
       "      <td>Control</td>\n",
       "      <td>7ea2e4599ae33760c307e254839317bd5b17a63c</td>\n",
       "      <td>2020-02-21</td>\n",
       "      <td>2020-01-13</td>\n",
       "      <td>ResourceSpend</td>\n",
       "      <td>itunes</td>\n",
       "      <td>Organic</td>\n",
       "      <td>France</td>\n",
       "      <td>989822</td>\n",
       "      <td>1176</td>\n",
       "      <td>21.0</td>\n",
       "      <td>0.0</td>\n",
       "      <td>0.0</td>\n",
       "      <td>NaN</td>\n",
       "      <td>NaN</td>\n",
       "    </tr>\n",
       "    <tr>\n",
       "      <th>4</th>\n",
       "      <td>Control</td>\n",
       "      <td>6495168982929360dc6d84bf0766d8963a7ddc41</td>\n",
       "      <td>2020-02-18</td>\n",
       "      <td>2020-02-05</td>\n",
       "      <td>ResourceSpend</td>\n",
       "      <td>itunes</td>\n",
       "      <td>Paid</td>\n",
       "      <td>Spain</td>\n",
       "      <td>52106</td>\n",
       "      <td>66</td>\n",
       "      <td>43.0</td>\n",
       "      <td>0.0</td>\n",
       "      <td>0.0</td>\n",
       "      <td>500.0</td>\n",
       "      <td>NaN</td>\n",
       "    </tr>\n",
       "  </tbody>\n",
       "</table>\n",
       "</div>"
      ],
      "text/plain": [
       "   AbGroup                                   user_id  time_stamp install_date  \\\n",
       "0  Control  d60ebcaecff2dc1d360a8a41271e6fd8a902c107  2020-02-10   2019-11-10   \n",
       "1     Test  f6e385b0ab43d5aea9cfcc408aa84029a4ea5fdb  2020-03-04   2019-11-05   \n",
       "2  Control  a4c80c8524e2c11cc238553d7b02da01ce2aad66  2020-02-26   2020-01-02   \n",
       "3  Control  7ea2e4599ae33760c307e254839317bd5b17a63c  2020-02-21   2020-01-13   \n",
       "4  Control  6495168982929360dc6d84bf0766d8963a7ddc41  2020-02-18   2020-02-05   \n",
       "\n",
       "      event_name platform network_name  \\\n",
       "0  ResourceSpend   itunes      Organic   \n",
       "1  ResourceSpend   itunes         Paid   \n",
       "2  ResourceSpend   itunes         Paid   \n",
       "3  ResourceSpend   itunes      Organic   \n",
       "4  ResourceSpend   itunes         Paid   \n",
       "\n",
       "                                        country_name  InGameTime  \\\n",
       "0  United Kingdom of Great Britain and Northern I...      276180   \n",
       "1                           United States of America      166095   \n",
       "2                                             Canada      240986   \n",
       "3                                             France      989822   \n",
       "4                                              Spain       52106   \n",
       "\n",
       "   LastCompletedLevel  avg_energy_amount  revenue_on_event  \\\n",
       "0                 345               54.0               0.0   \n",
       "1                 199               50.0               0.0   \n",
       "2                  84               39.0               0.0   \n",
       "3                1176               21.0               0.0   \n",
       "4                  66               43.0               0.0   \n",
       "\n",
       "   revenue_on_other_activities  gold_on_event  gold_on_other_activities  \n",
       "0                          0.0            NaN                       NaN  \n",
       "1                          0.0            NaN                       NaN  \n",
       "2                          0.0            NaN                       NaN  \n",
       "3                          0.0            NaN                       NaN  \n",
       "4                          0.0          500.0                       NaN  "
      ]
     },
     "execution_count": 4,
     "metadata": {},
     "output_type": "execute_result"
    }
   ],
   "source": [
    "data.head()"
   ]
  },
  {
   "cell_type": "code",
   "execution_count": 5,
   "id": "2c74cb60",
   "metadata": {},
   "outputs": [
    {
     "data": {
      "text/plain": [
       "(696840, 15)"
      ]
     },
     "execution_count": 5,
     "metadata": {},
     "output_type": "execute_result"
    }
   ],
   "source": [
    "data.shape"
   ]
  },
  {
   "cell_type": "code",
   "execution_count": 6,
   "id": "a3f958e1",
   "metadata": {},
   "outputs": [
    {
     "data": {
      "text/plain": [
       "AbGroup                         object\n",
       "user_id                         object\n",
       "time_stamp                      object\n",
       "install_date                    object\n",
       "event_name                      object\n",
       "platform                        object\n",
       "network_name                    object\n",
       "country_name                    object\n",
       "InGameTime                       int64\n",
       "LastCompletedLevel               int64\n",
       "avg_energy_amount              float64\n",
       "revenue_on_event               float64\n",
       "revenue_on_other_activities    float64\n",
       "gold_on_event                  float64\n",
       "gold_on_other_activities       float64\n",
       "dtype: object"
      ]
     },
     "execution_count": 6,
     "metadata": {},
     "output_type": "execute_result"
    }
   ],
   "source": [
    "data.dtypes"
   ]
  },
  {
   "cell_type": "code",
   "execution_count": 7,
   "id": "58aca21d",
   "metadata": {},
   "outputs": [],
   "source": [
    "data.time_stamp = pd.to_datetime(data.time_stamp)\n",
    "data.install_date = pd.to_datetime(data.install_date)"
   ]
  },
  {
   "cell_type": "code",
   "execution_count": 8,
   "id": "355a400c",
   "metadata": {},
   "outputs": [
    {
     "data": {
      "text/plain": [
       "AbGroup                             0\n",
       "user_id                             0\n",
       "time_stamp                          0\n",
       "install_date                        0\n",
       "event_name                          0\n",
       "platform                            0\n",
       "network_name                        0\n",
       "country_name                        0\n",
       "InGameTime                          0\n",
       "LastCompletedLevel                  0\n",
       "avg_energy_amount                   0\n",
       "revenue_on_event                    0\n",
       "revenue_on_other_activities         0\n",
       "gold_on_event                  651428\n",
       "gold_on_other_activities       528647\n",
       "dtype: int64"
      ]
     },
     "execution_count": 8,
     "metadata": {},
     "output_type": "execute_result"
    }
   ],
   "source": [
    "data.isnull().sum()"
   ]
  },
  {
   "cell_type": "code",
   "execution_count": 9,
   "id": "832791c6",
   "metadata": {},
   "outputs": [
    {
     "data": {
      "text/plain": [
       "(487387, 15)"
      ]
     },
     "execution_count": 9,
     "metadata": {},
     "output_type": "execute_result"
    }
   ],
   "source": [
    "data.query(\"event_name == 'ResourceSpend' and gold_on_event.isnull() and gold_on_other_activities.isnull()\").shape"
   ]
  },
  {
   "cell_type": "markdown",
   "id": "8bf47c9f",
   "metadata": {},
   "source": [
    "Делаю предположение о том, что в игре есть друга валюта помимо золота, поэтому и так много null значений."
   ]
  },
  {
   "cell_type": "markdown",
   "id": "2953c0ca",
   "metadata": {},
   "source": [
    "# Изучение данных"
   ]
  },
  {
   "cell_type": "markdown",
   "id": "b4f69532",
   "metadata": {},
   "source": [
    "Для начала оценю разбиение по группам в эксперименте"
   ]
  },
  {
   "cell_type": "code",
   "execution_count": 22,
   "id": "b240e359",
   "metadata": {
    "scrolled": true
   },
   "outputs": [
    {
     "data": {
      "text/plain": [
       "<AxesSubplot:xlabel='AbGroup', ylabel='groups_num'>"
      ]
     },
     "execution_count": 22,
     "metadata": {},
     "output_type": "execute_result"
    },
    {
     "data": {
      "image/png": "[encoded data removed]",
      "text/plain": [
       "<Figure size 288x288 with 1 Axes>"
      ]
     },
     "metadata": {},
     "output_type": "display_data"
    }
   ],
   "source": [
    "test = data.query(\"AbGroup == 'Test'\")\n",
    "control = data.query(\"AbGroup == 'Control'\")\n",
    "\n",
    "groups = data.groupby('AbGroup', as_index = False ) \\\n",
    "             .agg(groups_num = ('user_id', 'nunique'))\n",
    "\n",
    "\n",
    "sns.barplot(x = groups.AbGroup, y = groups.groups_num)"
   ]
  },
  {
   "cell_type": "markdown",
   "id": "3d4ce5b2",
   "metadata": {},
   "source": [
    "Можно заметить, что в контрольной группе кратно больше пользователей, чем в тестовой.\n",
    "\n",
    "Теперь оценю время проведения эксперимента\n"
   ]
  },
  {
   "cell_type": "code",
   "execution_count": 11,
   "id": "63c91be9",
   "metadata": {},
   "outputs": [
    {
     "name": "stdout",
     "output_type": "stream",
     "text": [
      "Минимальная дата в тестовой группе: 2020-02-06 00:00:00\n",
      "Максимальная дата в тестовой группе: 2020-03-04 00:00:00\n",
      "Минимальная дата в контрольной группе: 2020-02-06 00:00:00\n",
      "Максимальная дата в контрольной группе: 2020-03-04 00:00:00\n"
     ]
    }
   ],
   "source": [
    "print(f\"Минимальная дата в тестовой группе: {min(test.time_stamp)}\")\n",
    "print(f\"Максимальная дата в тестовой группе: {max(test.time_stamp)}\")\n",
    "print(f\"Минимальная дата в контрольной группе: {min(control.time_stamp)}\")\n",
    "print(f\"Максимальная дата в контрольной группе: {max(control.time_stamp)}\")"
   ]
  },
  {
   "cell_type": "markdown",
   "id": "3954a4bc",
   "metadata": {},
   "source": [
    "Эксперимент проводился в один и тот же временной промежуток, что хорошо.\n",
    "\n",
    "Далее хотелось бы рассмотреть как были распределены пользователи по странам.\n"
   ]
  },
  {
   "cell_type": "code",
   "execution_count": 23,
   "id": "a75fea2a",
   "metadata": {},
   "outputs": [
    {
     "data": {
      "text/plain": [
       "<matplotlib.legend.Legend at 0x7f7c7264f160>"
      ]
     },
     "execution_count": 23,
     "metadata": {},
     "output_type": "execute_result"
    },
    {
     "data": {
      "image/png": "[encoded data removed]",
      "text/plain": [
       "<Figure size 1080x432 with 1 Axes>"
      ]
     },
     "metadata": {},
     "output_type": "display_data"
    }
   ],
   "source": [
    "f, ax = plt.subplots(figsize=(15, 6))\n",
    "countries = data.groupby(['country_name', 'AbGroup'], as_index = False) \\\n",
    "               .agg(users_num = ('user_id', 'nunique'))\n",
    "sns.pointplot(x = countries.AbGroup, y = countries.users_num, hue = countries.country_name)\n",
    "plt.legend([],[], frameon=False)"
   ]
  },
  {
   "cell_type": "markdown",
   "id": "6e04f866",
   "metadata": {},
   "source": [
    "Изучая распределение пользователей по странам видно, что в контрольной группе во всех странах пользователей больше. Это логично, т.к в контрольной группе пользователей больше в целом.\n",
    "\n",
    "Посмотрим на распределение пользователей по платформам"
   ]
  },
  {
   "cell_type": "code",
   "execution_count": 24,
   "id": "6455d7e6",
   "metadata": {},
   "outputs": [
    {
     "data": {
      "text/html": [
       "<div>\n",
       "<style scoped>\n",
       "    .dataframe tbody tr th:only-of-type {\n",
       "        vertical-align: middle;\n",
       "    }\n",
       "\n",
       "    .dataframe tbody tr th {\n",
       "        vertical-align: top;\n",
       "    }\n",
       "\n",
       "    .dataframe thead th {\n",
       "        text-align: right;\n",
       "    }\n",
       "</style>\n",
       "<table border=\"1\" class=\"dataframe\">\n",
       "  <thead>\n",
       "    <tr style=\"text-align: right;\">\n",
       "      <th></th>\n",
       "      <th>platform</th>\n",
       "      <th>users_num</th>\n",
       "    </tr>\n",
       "  </thead>\n",
       "  <tbody>\n",
       "    <tr>\n",
       "      <th>0</th>\n",
       "      <td>itunes</td>\n",
       "      <td>52854</td>\n",
       "    </tr>\n",
       "  </tbody>\n",
       "</table>\n",
       "</div>"
      ],
      "text/plain": [
       "  platform  users_num\n",
       "0   itunes      52854"
      ]
     },
     "execution_count": 24,
     "metadata": {},
     "output_type": "execute_result"
    }
   ],
   "source": [
    "control.groupby('platform', as_index = False) \\\n",
    "    .agg(users_num = ('user_id', 'nunique'))\n"
   ]
  },
  {
   "cell_type": "code",
   "execution_count": 25,
   "id": "a681c390",
   "metadata": {},
   "outputs": [
    {
     "data": {
      "text/html": [
       "<div>\n",
       "<style scoped>\n",
       "    .dataframe tbody tr th:only-of-type {\n",
       "        vertical-align: middle;\n",
       "    }\n",
       "\n",
       "    .dataframe tbody tr th {\n",
       "        vertical-align: top;\n",
       "    }\n",
       "\n",
       "    .dataframe thead th {\n",
       "        text-align: right;\n",
       "    }\n",
       "</style>\n",
       "<table border=\"1\" class=\"dataframe\">\n",
       "  <thead>\n",
       "    <tr style=\"text-align: right;\">\n",
       "      <th></th>\n",
       "      <th>platform</th>\n",
       "      <th>users_num</th>\n",
       "    </tr>\n",
       "  </thead>\n",
       "  <tbody>\n",
       "    <tr>\n",
       "      <th>0</th>\n",
       "      <td>itunes</td>\n",
       "      <td>13149</td>\n",
       "    </tr>\n",
       "  </tbody>\n",
       "</table>\n",
       "</div>"
      ],
      "text/plain": [
       "  platform  users_num\n",
       "0   itunes      13149"
      ]
     },
     "execution_count": 25,
     "metadata": {},
     "output_type": "execute_result"
    }
   ],
   "source": [
    "test.groupby('platform', as_index = False) \\\n",
    "    .agg(users_num = ('user_id', 'nunique'))\n"
   ]
  },
  {
   "cell_type": "markdown",
   "id": "ec4d121a",
   "metadata": {},
   "source": [
    "Можно заметить, что в группах всего одна платформа - ios.\n",
    "\n",
    "Теперь сравню несколько количественных значений по группам.\n"
   ]
  },
  {
   "cell_type": "code",
   "execution_count": 26,
   "id": "6e759178",
   "metadata": {},
   "outputs": [
    {
     "data": {
      "text/html": [
       "<div>\n",
       "<style scoped>\n",
       "    .dataframe tbody tr th:only-of-type {\n",
       "        vertical-align: middle;\n",
       "    }\n",
       "\n",
       "    .dataframe tbody tr th {\n",
       "        vertical-align: top;\n",
       "    }\n",
       "\n",
       "    .dataframe thead th {\n",
       "        text-align: right;\n",
       "    }\n",
       "</style>\n",
       "<table border=\"1\" class=\"dataframe\">\n",
       "  <thead>\n",
       "    <tr style=\"text-align: right;\">\n",
       "      <th></th>\n",
       "      <th>AbGroup</th>\n",
       "      <th>avg_time</th>\n",
       "    </tr>\n",
       "  </thead>\n",
       "  <tbody>\n",
       "    <tr>\n",
       "      <th>0</th>\n",
       "      <td>Control</td>\n",
       "      <td>895.442697</td>\n",
       "    </tr>\n",
       "    <tr>\n",
       "      <th>1</th>\n",
       "      <td>Test</td>\n",
       "      <td>896.526997</td>\n",
       "    </tr>\n",
       "  </tbody>\n",
       "</table>\n",
       "</div>"
      ],
      "text/plain": [
       "   AbGroup    avg_time\n",
       "0  Control  895.442697\n",
       "1     Test  896.526997"
      ]
     },
     "execution_count": 26,
     "metadata": {},
     "output_type": "execute_result"
    }
   ],
   "source": [
    "data['InGameHours'] = data.InGameTime / 3600\n",
    "InGameTime = data.groupby('AbGroup', as_index = False) \\\n",
    "                 .agg(avg_time = ('InGameHours', 'mean'))\n",
    "\n",
    "InGameTime\n"
   ]
  },
  {
   "cell_type": "markdown",
   "id": "06ed431c",
   "metadata": {},
   "source": [
    "В целом, по проведенному времени пользователей разделили +- одинаково даже несмотря на то, что в контрольной группе показатель выше на 37% "
   ]
  },
  {
   "cell_type": "code",
   "execution_count": 16,
   "id": "d6c57b9e",
   "metadata": {},
   "outputs": [
    {
     "data": {
      "text/html": [
       "<div>\n",
       "<style scoped>\n",
       "    .dataframe tbody tr th:only-of-type {\n",
       "        vertical-align: middle;\n",
       "    }\n",
       "\n",
       "    .dataframe tbody tr th {\n",
       "        vertical-align: top;\n",
       "    }\n",
       "\n",
       "    .dataframe thead th {\n",
       "        text-align: right;\n",
       "    }\n",
       "</style>\n",
       "<table border=\"1\" class=\"dataframe\">\n",
       "  <thead>\n",
       "    <tr style=\"text-align: right;\">\n",
       "      <th></th>\n",
       "      <th>AbGroup</th>\n",
       "      <th>gold_on_event</th>\n",
       "      <th>gold_on_other_activities</th>\n",
       "      <th>revenue_on_event</th>\n",
       "      <th>revenue_on_other_activities</th>\n",
       "    </tr>\n",
       "  </thead>\n",
       "  <tbody>\n",
       "    <tr>\n",
       "      <th>0</th>\n",
       "      <td>Control</td>\n",
       "      <td>1965.211658</td>\n",
       "      <td>911.892213</td>\n",
       "      <td>0.0</td>\n",
       "      <td>0.0</td>\n",
       "    </tr>\n",
       "    <tr>\n",
       "      <th>1</th>\n",
       "      <td>Test</td>\n",
       "      <td>2104.606505</td>\n",
       "      <td>1035.412000</td>\n",
       "      <td>0.0</td>\n",
       "      <td>0.0</td>\n",
       "    </tr>\n",
       "  </tbody>\n",
       "</table>\n",
       "</div>"
      ],
      "text/plain": [
       "   AbGroup  gold_on_event  gold_on_other_activities  revenue_on_event  \\\n",
       "0  Control    1965.211658                911.892213               0.0   \n",
       "1     Test    2104.606505               1035.412000               0.0   \n",
       "\n",
       "   revenue_on_other_activities  \n",
       "0                          0.0  \n",
       "1                          0.0  "
      ]
     },
     "execution_count": 16,
     "metadata": {},
     "output_type": "execute_result"
    }
   ],
   "source": [
    "data.groupby('AbGroup', as_index = False) \\\n",
    "    .agg({\n",
    "         'gold_on_event':'mean',\n",
    "         'gold_on_other_activities':'mean',\n",
    "         'revenue_on_event':'mean',\n",
    "         'revenue_on_other_activities':'mean'\n",
    "         })\n"
   ]
  },
  {
   "cell_type": "code",
   "execution_count": 17,
   "id": "d3c69fcb",
   "metadata": {},
   "outputs": [
    {
     "data": {
      "text/html": [
       "<div>\n",
       "<style scoped>\n",
       "    .dataframe tbody tr th:only-of-type {\n",
       "        vertical-align: middle;\n",
       "    }\n",
       "\n",
       "    .dataframe tbody tr th {\n",
       "        vertical-align: top;\n",
       "    }\n",
       "\n",
       "    .dataframe thead th {\n",
       "        text-align: right;\n",
       "    }\n",
       "</style>\n",
       "<table border=\"1\" class=\"dataframe\">\n",
       "  <thead>\n",
       "    <tr style=\"text-align: right;\">\n",
       "      <th></th>\n",
       "      <th>AbGroup</th>\n",
       "      <th>user_id</th>\n",
       "      <th>time_stamp</th>\n",
       "      <th>install_date</th>\n",
       "      <th>event_name</th>\n",
       "      <th>platform</th>\n",
       "      <th>network_name</th>\n",
       "      <th>country_name</th>\n",
       "      <th>InGameTime</th>\n",
       "      <th>LastCompletedLevel</th>\n",
       "      <th>avg_energy_amount</th>\n",
       "      <th>revenue_on_event</th>\n",
       "      <th>revenue_on_other_activities</th>\n",
       "      <th>gold_on_event</th>\n",
       "      <th>gold_on_other_activities</th>\n",
       "      <th>InGameHours</th>\n",
       "    </tr>\n",
       "  </thead>\n",
       "  <tbody>\n",
       "  </tbody>\n",
       "</table>\n",
       "</div>"
      ],
      "text/plain": [
       "Empty DataFrame\n",
       "Columns: [AbGroup, user_id, time_stamp, install_date, event_name, platform, network_name, country_name, InGameTime, LastCompletedLevel, avg_energy_amount, revenue_on_event, revenue_on_other_activities, gold_on_event, gold_on_other_activities, InGameHours]\n",
       "Index: []"
      ]
     },
     "execution_count": 17,
     "metadata": {},
     "output_type": "execute_result"
    }
   ],
   "source": [
    "data.query(\"revenue_on_event > 0\")"
   ]
  },
  {
   "cell_type": "code",
   "execution_count": 18,
   "id": "c4993f12",
   "metadata": {},
   "outputs": [
    {
     "data": {
      "text/plain": [
       "array(['ResourceSpend'], dtype=object)"
      ]
     },
     "execution_count": 18,
     "metadata": {},
     "output_type": "execute_result"
    }
   ],
   "source": [
    "data.event_name.unique()"
   ]
  },
  {
   "cell_type": "markdown",
   "id": "7fbc2bd3",
   "metadata": {},
   "source": [
    "Значения для золота в тестовой и контрольной группе примерно одинаковые, однако в тестовой группе в конкретном эксперименте обе метркии показали рост. Выяснился и другой интересный момент - в датасете отсутствуют операции за настоящие деньги, поэтому закрадываются сомнения и в количестве null значений для покупок за внутреннюю валюту. Могу предположить, что в ходе эксперимента произошла какая-то ошибка, так как:\n",
    "1. Много событий покупки за внутреннюю валюту с null значениями в колонках с золотом;\n",
    "2. отсутствует Google play в платформе (в тз указан);\n",
    "3. отсутствуют покупки за реальные деньги (в тз указаны). \n",
    "\n",
    "Исходя из этого буду сравнивать группы по датасету, в котором отсутствуют null значения. \n",
    "\n",
    "Так как отсутствуют колонки с покупками за реальную валюту, то критерием успешности эксперимента буду считать стат. значимое увеличение потраченного золота на ивентовые предметы. Золото потраченное на не ивентовые продукты учитывать не буду, т.к исходя из тз, дизайнеры изменили только иконку покупки продуктов товаров,связанных с событием. \n",
    "\n",
    "Если бы данные были бы полными, то ожидпалось бы также увеличение трат реальных денег на ивентовые продукты и рост среднего чека на покупку не ивентовых товаров, что включает в себя золотою (revenue_on_other_activities)"
   ]
  },
  {
   "cell_type": "code",
   "execution_count": 39,
   "id": "9681fd1a",
   "metadata": {},
   "outputs": [],
   "source": [
    "data = data.query(\"gold_on_event.notnull()\")"
   ]
  },
  {
   "cell_type": "markdown",
   "id": "e45dc754",
   "metadata": {},
   "source": [
    "В датафрейме 45412 строк. Этого вполне достаточно для сравнения, даже если в записи не было никакой ошибки"
   ]
  },
  {
   "cell_type": "markdown",
   "id": "75c939e5",
   "metadata": {},
   "source": [
    "# Сравнение двух групп"
   ]
  },
  {
   "cell_type": "code",
   "execution_count": 42,
   "id": "b798011e",
   "metadata": {},
   "outputs": [],
   "source": [
    "test = data.query(\"AbGroup == 'Test'\").gold_on_event\n",
    "control = data.query(\"AbGroup == 'Control'\").gold_on_event"
   ]
  },
  {
   "cell_type": "code",
   "execution_count": 43,
   "id": "d23665b8",
   "metadata": {},
   "outputs": [
    {
     "data": {
      "text/plain": [
       "Text(0.5, 0, 'Потраченное золото')"
      ]
     },
     "execution_count": 43,
     "metadata": {},
     "output_type": "execute_result"
    },
    {
     "data": {
      "image/png": "[encoded data removed]",
      "text/plain": [
       "<Figure size 432x288 with 1 Axes>"
      ]
     },
     "metadata": {
      "needs_background": "light"
     },
     "output_type": "display_data"
    }
   ],
   "source": [
    "sns.histplot(test)\n",
    "plt.title('Распределение трат золота на ивентовые продукты в тестовой группе')\n",
    "plt.ylabel('Количество')\n",
    "plt.xlabel('Потраченное золото')"
   ]
  },
  {
   "cell_type": "code",
   "execution_count": 44,
   "id": "3e0af7b9",
   "metadata": {},
   "outputs": [
    {
     "data": {
      "text/plain": [
       "Text(0.5, 0, 'Потраченное золото')"
      ]
     },
     "execution_count": 44,
     "metadata": {},
     "output_type": "execute_result"
    },
    {
     "data": {
      "image/png": "[encoded data removed]",
      "text/plain": [
       "<Figure size 432x288 with 1 Axes>"
      ]
     },
     "metadata": {
      "needs_background": "light"
     },
     "output_type": "display_data"
    }
   ],
   "source": [
    "sns.histplot(control)\n",
    "plt.title('Распределение трат золота на ивентовые продукты в контрольной группе')\n",
    "plt.ylabel('Количество')\n",
    "plt.xlabel('Потраченное золото')"
   ]
  },
  {
   "cell_type": "markdown",
   "id": "f5841d1b",
   "metadata": {},
   "source": [
    "Распределения с длиным хвостом являются довольно типичными для распределений, связанных с деньгами. Большинство людей тратят около 2000 голды, но есть и юзеры, которые тратят кратно больше. \n",
    "\n",
    "Для выбора статистического теста для начала проверю гомогенность дисперсий в двух группах. "
   ]
  },
  {
   "cell_type": "code",
   "execution_count": 52,
   "id": "af5cafca",
   "metadata": {
    "scrolled": true
   },
   "outputs": [
    {
     "name": "stdout",
     "output_type": "stream",
     "text": [
      "\n",
      "H0 – в генеральной совокупности никакого различия между дисперсиями контрольных групп нет. \n",
      "H1 – дисперсии контрольных групп не равны в генеральной совокупности. \n",
      "P-value: 0.017074567802208836.\n",
      "\n"
     ]
    }
   ],
   "source": [
    "p_value = stats.levene(test, control)[1]\n",
    "print(f\"\"\"\n",
    "H0 – в генеральной совокупности никакого различия между дисперсиями контрольных групп нет. \n",
    "H1 – дисперсии контрольных групп не равны в генеральной совокупности. \n",
    "P-value: {p_value}.\n",
    "\"\"\")"
   ]
  },
  {
   "cell_type": "markdown",
   "id": "b1bc3e95",
   "metadata": {},
   "source": [
    "У нас есть основания отвергнуть нулевую гипотезу о том, что в генеральной совокупности никакого различия между дисперсиями контрольных групп нет, т.к p-value < 0.05.\n",
    "\n",
    "Следовательно, в такой ситуации лучше воздержаться от применения т-теста. Для сравненния двух групп между собой воспользуюсь бутстрапом."
   ]
  },
  {
   "cell_type": "code",
   "execution_count": 55,
   "id": "f543a60f",
   "metadata": {},
   "outputs": [],
   "source": [
    "avg_diff = []\n",
    "\n",
    "for i in range(10000):\n",
    "    sample_data_control = control.sample(frac=1, replace=True)\n",
    "    sample_median_control = sample_data_control.mean()\n",
    "    \n",
    "    \n",
    "    sample_data_exp = test.sample(frac=1, replace=True)\n",
    "    sample_median_exp = sample_data_exp.mean()\n",
    "    \n",
    "    sample_median_diff = sample_median_control - sample_median_exp\n",
    "    avg_diff.append(sample_median_diff)"
   ]
  },
  {
   "cell_type": "markdown",
   "id": "d24cf7fb",
   "metadata": {},
   "source": [
    "Оценивать результат буду по доверительному интервалу."
   ]
  },
  {
   "cell_type": "code",
   "execution_count": 56,
   "id": "fe3a0be1",
   "metadata": {},
   "outputs": [
    {
     "name": "stdout",
     "output_type": "stream",
     "text": [
      "Доверительный интервал: -256.38705475559567 - -35.97597627430313\n"
     ]
    }
   ],
   "source": [
    "print(f\"Доверительный интервал: {pd.Series(avg_diff).quantile(0.025)} - {pd.Series(avg_diff).quantile(0.975)}\")\n"
   ]
  },
  {
   "cell_type": "markdown",
   "id": "8a1e218c",
   "metadata": {},
   "source": [
    "Разница между средними значениями отрицательны и стат. значимы, поскольку доверительный интервал не включают в себя 0. Исходя из этого делаю вывод, что конкретно в этом эксперименте изменение иконки ивентовых продуктов привело к стат. значимому увеличению потраченного золота на покупку ивентовых продуктов. \n",
    "\n",
    "Исходя из отмеченных в начале ожидаемых результатов считаю эксперимент удачным, обновление можно выкатывать на всех пользователей.\n"
   ]
  }
 ],
 "metadata": {
  "kernelspec": {
   "display_name": "Python 3 (ipykernel)",
   "language": "python",
   "name": "python3"
  },
  "language_info": {
   "codemirror_mode": {
    "name": "ipython",
    "version": 3
   },
   "file_extension": ".py",
   "mimetype": "text/x-python",
   "name": "python",
   "nbconvert_exporter": "python",
   "pygments_lexer": "ipython3",
   "version": "3.9.12"
  }
 },
 "nbformat": 4,
 "nbformat_minor": 5
}
